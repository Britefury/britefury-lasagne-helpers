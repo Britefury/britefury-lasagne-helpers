{
 "cells": [
  {
   "cell_type": "markdown",
   "metadata": {},
   "source": [
    "# MNIST digit classifier example"
   ]
  },
  {
   "cell_type": "markdown",
   "metadata": {},
   "source": [
    "#### Imports"
   ]
  },
  {
   "cell_type": "code",
   "execution_count": 1,
   "metadata": {
    "collapsed": false
   },
   "outputs": [
    {
     "name": "stdout",
     "output_type": "stream",
     "text": [
      "EVIL HACK: Disabled cuDNN check\n"
     ]
    },
    {
     "name": "stderr",
     "output_type": "stream",
     "text": [
      "DEBUG: nvcc STDOUT mod.cu\r\n",
      "   Creating library c:/Geoff/theano_gpu_temp/compiledir_Windows-7-6.1.7601-SP1-Intel64_Family_6_Model_60_Stepping_3_GenuineIntel-2.7.12-64/tmpr6qlpp/265abc51f7c376c224983485238ff1a5.lib and object c:/Geoff/theano_gpu_temp/compiledir_Windows-7-6.1.7601-SP1-Intel64_Family_6_Model_60_Stepping_3_GenuineIntel-2.7.12-64/tmpr6qlpp/265abc51f7c376c224983485238ff1a5.exp\r\n",
      "\n",
      "Using gpu device 0: GeForce GTX 980 (CNMeM is enabled with initial size: 25.0% of memory, cuDNN 4007)\n"
     ]
    }
   ],
   "source": [
    "%matplotlib inline\n",
    "\n",
    "import numpy as np\n",
    "\n",
    "from matplotlib import pyplot as plt\n",
    "\n",
    "import sklearn.cross_validation\n",
    "\n",
    "import lasagne\n",
    "import theano.tensor as T\n",
    "from britefury_lasagne import basic_dnn, trainer, image_window_extractor, mnist\n",
    "\n"
   ]
  },
  {
   "cell_type": "markdown",
   "metadata": {},
   "source": [
    "### Define network architecture\n",
    "\n",
    "We define the `build_network` function that takes the input variables as an optional argument and build the network using the Lasagne API.\n",
    "\n",
    "NOTE that the final dense layer does *NOT* use the `softmax` nonlinearity as it is supplied by the classifier builder (see below)."
   ]
  },
  {
   "cell_type": "code",
   "execution_count": 2,
   "metadata": {
    "collapsed": true
   },
   "outputs": [],
   "source": [
    "def build_network(input_vars=None):\n",
    "    # Input layer\n",
    "    x_var = input_vars[0] if input_vars is not None else None\n",
    "    net = lasagne.layers.InputLayer(shape=(None, 1, 28, 28),\n",
    "                                        input_var=x_var)\n",
    "\n",
    "    # A 32 unit 5x5 conv layer, followed by 2x2 max-pool\n",
    "    net = lasagne.layers.Conv2DLayer(net, num_filters=32, filter_size=(5, 5), W=lasagne.init.HeUniform())\n",
    "    net = lasagne.layers.MaxPool2DLayer(net, pool_size=(2, 2))\n",
    "\n",
    "    # Two 32 unit 3x3 conv layers, followed by 2x2 max-pool\n",
    "    net = lasagne.layers.Conv2DLayer(net, num_filters=32, filter_size=(3, 3), W=lasagne.init.HeUniform())\n",
    "    net = lasagne.layers.Conv2DLayer(net, num_filters=32, filter_size=(3, 3), W=lasagne.init.HeUniform())\n",
    "    net = lasagne.layers.MaxPool2DLayer(net, pool_size=(2, 2))\n",
    "\n",
    "    # A fully-connected layer of 64 units followed by 50% dropout\n",
    "    net = lasagne.layers.DenseLayer(net, num_units=64, W=lasagne.init.HeUniform())\n",
    "    net = lasagne.layers.DropoutLayer(net, p=0.5)\n",
    "\n",
    "    # Final 10-unit dense layer, with no nonlinearity\n",
    "    net = lasagne.layers.DenseLayer(net, num_units=10, nonlinearity=None)\n",
    "\n",
    "    return net"
   ]
  },
  {
   "cell_type": "markdown",
   "metadata": {},
   "source": [
    "#### Load the train, validation and test sets"
   ]
  },
  {
   "cell_type": "code",
   "execution_count": 3,
   "metadata": {
    "collapsed": false
   },
   "outputs": [],
   "source": [
    "dataset = mnist.MNIST()\n"
   ]
  },
  {
   "cell_type": "markdown",
   "metadata": {},
   "source": [
    "### Train the classifier"
   ]
  },
  {
   "cell_type": "code",
   "execution_count": 4,
   "metadata": {
    "collapsed": false
   },
   "outputs": [
    {
     "name": "stdout",
     "output_type": "stream",
     "text": [
      "Building network\n",
      "Training\n",
      "Epoch 1/10 took 3.75s:  TRAIN y loss=0.441689  VAL y loss=0.084613 err=2.61%  TEST y loss=0.084419 err=2.65%\n",
      "Epoch 2/10 took 1.78s:  TRAIN y loss=0.140706  VAL y loss=0.060268 err=1.85%  TEST y loss=0.052837 err=1.75%\n",
      "Epoch 3/10 took 1.80s:  TRAIN y loss=0.106317  VAL y loss=0.048532 err=1.39%  TEST y loss=0.042325 err=1.30%\n",
      "Epoch 4/10 took 1.76s:  TRAIN y loss=0.082908  VAL y loss=0.043994 err=1.17%  TEST y loss=0.034813 err=1.17%\n",
      "Epoch 5/10 took 1.75s:  TRAIN y loss=0.073172  VAL y loss=0.041307 err=1.06%  TEST y loss=0.033449 err=1.07%\n",
      "Epoch 6/10 took 1.68s:  TRAIN y loss=0.064170  VAL y loss=0.042681 err=1.10%\n",
      "Epoch 7/10 took 1.76s:  TRAIN y loss=0.055373  VAL y loss=0.042626 err=0.98%  TEST y loss=0.031913 err=0.95%\n",
      "Epoch 8/10 took 1.67s:  TRAIN y loss=0.048138  VAL y loss=0.040988 err=1.01%\n",
      "Epoch 9/10 took 2.11s:  TRAIN y loss=0.045882  VAL y loss=0.038105 err=0.99%\n",
      "Epoch 10/10 took 1.68s:  TRAIN y loss=0.040990  VAL y loss=0.040317 err=0.98%\n",
      "Final result:\n",
      "Epoch 7/10 took 19.75s:  TRAIN y loss=0.055373  VAL y loss=0.042626 err=0.98%  TEST y loss=0.031913 err=0.95%\n"
     ]
    },
    {
     "data": {
      "text/plain": [
       "<britefury_lasagne.trainer.TrainingResults at 0x44aa2eb8>"
      ]
     },
     "execution_count": 4,
     "metadata": {},
     "output_type": "execute_result"
    }
   ],
   "source": [
    "# Build the image classifier for the given model builder\n",
    "print('Building network')\n",
    "clf = basic_dnn.simple_classifier(build_network, n_input_spatial_dims=2,\n",
    "            updates_fn=lambda loss, params: lasagne.updates.adam(loss, params, learning_rate=0.001))\n",
    "\n",
    "# Set verbosity\n",
    "clf.trainer.report(verbosity=trainer.VERBOSITY_EPOCH)\n",
    "\n",
    "# Set training length\n",
    "clf.trainer.train_for(num_epochs=10)\n",
    "\n",
    "# Train\n",
    "print('Training')\n",
    "clf.trainer.train([dataset.train_X, dataset.train_y],\n",
    "                  [dataset.val_X, dataset.val_y],\n",
    "                  [dataset.test_X, dataset.test_y], batchsize=128)"
   ]
  },
  {
   "cell_type": "markdown",
   "metadata": {},
   "source": [
    "### Use the classifier to predict on the test set"
   ]
  },
  {
   "cell_type": "code",
   "execution_count": 5,
   "metadata": {
    "collapsed": false
   },
   "outputs": [
    {
     "name": "stdout",
     "output_type": "stream",
     "text": [
      "Test error rate=0.95%\n"
     ]
    }
   ],
   "source": [
    "# Predict probabilities for test samples\n",
    "test_y_pred_prob = clf.predict([dataset.test_X])[0]\n",
    "# Use `np.argmax` to get class predictions\n",
    "test_y_pred = np.argmax(test_y_pred_prob, axis=1)\n",
    "\n",
    "# Show the error rate\n",
    "print('Test error rate={:.2%}'.format(np.mean(test_y_pred != dataset.test_y)))"
   ]
  }
 ],
 "metadata": {
  "anaconda-cloud": {},
  "kernelspec": {
   "display_name": "Python 2",
   "language": "python",
   "name": "python2"
  },
  "language_info": {
   "codemirror_mode": {
    "name": "ipython",
    "version": 2
   },
   "file_extension": ".py",
   "mimetype": "text/x-python",
   "name": "python",
   "nbconvert_exporter": "python",
   "pygments_lexer": "ipython2",
   "version": "2.7.12"
  }
 },
 "nbformat": 4,
 "nbformat_minor": 1
}
