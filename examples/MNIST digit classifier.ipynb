{
 "cells": [
  {
   "cell_type": "markdown",
   "metadata": {},
   "source": [
    "# MNIST digit classifier example"
   ]
  },
  {
   "cell_type": "markdown",
   "metadata": {},
   "source": [
    "#### Imports"
   ]
  },
  {
   "cell_type": "code",
   "execution_count": null,
   "metadata": {
    "collapsed": false
   },
   "outputs": [],
   "source": [
    "%matplotlib inline\n",
    "\n",
    "import numpy as np\n",
    "\n",
    "from matplotlib import pyplot as plt\n",
    "\n",
    "try:\n",
    "    from tqdm import tqdm_notebook\n",
    "except ImportError:\n",
    "    tqdm_notebook = None\n",
    "\n",
    "import sklearn.cross_validation\n",
    "\n",
    "import lasagne\n",
    "import theano.tensor as T\n",
    "from britefury_lasagne import basic_dnn, trainer, image_window_extractor, mnist\n",
    "\n"
   ]
  },
  {
   "cell_type": "markdown",
   "metadata": {},
   "source": [
    "### Define network architecture\n",
    "\n",
    "We define the `build_network` function that takes the input variables as an optional argument and build the network using the Lasagne API.\n",
    "\n",
    "NOTE that the final dense layer does *NOT* use the `softmax` nonlinearity as it is supplied by the classifier builder (see below)."
   ]
  },
  {
   "cell_type": "code",
   "execution_count": null,
   "metadata": {
    "collapsed": true
   },
   "outputs": [],
   "source": [
    "def build_network(input_vars=None):\n",
    "    # Input layer\n",
    "    x_var = input_vars[0] if input_vars is not None else None\n",
    "    net = lasagne.layers.InputLayer(shape=(None, 1, 28, 28),\n",
    "                                        input_var=x_var)\n",
    "\n",
    "    # A 32 unit 5x5 conv layer, followed by 2x2 max-pool\n",
    "    net = lasagne.layers.Conv2DLayer(net, num_filters=32, filter_size=(5, 5), W=lasagne.init.HeUniform())\n",
    "    net = lasagne.layers.MaxPool2DLayer(net, pool_size=(2, 2))\n",
    "\n",
    "    # Two 32 unit 3x3 conv layers, followed by 2x2 max-pool\n",
    "    net = lasagne.layers.Conv2DLayer(net, num_filters=32, filter_size=(3, 3), W=lasagne.init.HeUniform())\n",
    "    net = lasagne.layers.Conv2DLayer(net, num_filters=32, filter_size=(3, 3), W=lasagne.init.HeUniform())\n",
    "    net = lasagne.layers.MaxPool2DLayer(net, pool_size=(2, 2))\n",
    "\n",
    "    # A fully-connected layer of 64 units followed by 50% dropout\n",
    "    net = lasagne.layers.DenseLayer(net, num_units=64, W=lasagne.init.HeUniform())\n",
    "    net = lasagne.layers.DropoutLayer(net, p=0.5)\n",
    "\n",
    "    # Final 10-unit dense layer, with no nonlinearity\n",
    "    net = lasagne.layers.DenseLayer(net, num_units=10, nonlinearity=None)\n",
    "\n",
    "    return net"
   ]
  },
  {
   "cell_type": "markdown",
   "metadata": {},
   "source": [
    "#### Load the train, validation and test sets"
   ]
  },
  {
   "cell_type": "code",
   "execution_count": null,
   "metadata": {
    "collapsed": false
   },
   "outputs": [],
   "source": [
    "dataset = mnist.MNIST()\n"
   ]
  },
  {
   "cell_type": "markdown",
   "metadata": {},
   "source": [
    "### Train the classifier"
   ]
  },
  {
   "cell_type": "code",
   "execution_count": null,
   "metadata": {
    "collapsed": false
   },
   "outputs": [],
   "source": [
    "# Build the image classifier for the given model builder\n",
    "print('Building network')\n",
    "clf = basic_dnn.simple_classifier(build_network, n_input_spatial_dims=2,\n",
    "            updates_fn=lambda loss, params: lasagne.updates.adam(loss, params, learning_rate=0.001))\n",
    "\n",
    "# Train with a batch size of 128, for 10 epochs, reporting after each epoch.\n",
    "print('Training')\n",
    "clf.train([dataset.train_X[:2048], dataset.train_y[:2048]],\n",
    "          [dataset.val_X[:2048], dataset.val_y[:2048]],\n",
    "          [dataset.test_X[:2048], dataset.test_y[:2048]], batchsize=128,\n",
    "          num_epochs=10, verbosity=trainer.VERBOSITY_EPOCH,\n",
    "          progress_iter_func=tqdm_notebook)"
   ]
  },
  {
   "cell_type": "markdown",
   "metadata": {},
   "source": [
    "### Use the classifier to predict on the test set"
   ]
  },
  {
   "cell_type": "code",
   "execution_count": null,
   "metadata": {
    "collapsed": false
   },
   "outputs": [],
   "source": [
    "# Predict probabilities for test samples\n",
    "test_y_pred_prob = clf.predict([dataset.test_X])[0]\n",
    "# Use `np.argmax` to get class predictions\n",
    "test_y_pred = np.argmax(test_y_pred_prob, axis=1)\n",
    "\n",
    "# Show the error rate\n",
    "print('Test error rate={:.2%}'.format(np.mean(test_y_pred != dataset.test_y)))"
   ]
  }
 ],
 "metadata": {
  "anaconda-cloud": {},
  "kernelspec": {
   "display_name": "Python [default]",
   "language": "python",
   "name": "python2"
  },
  "language_info": {
   "codemirror_mode": {
    "name": "ipython",
    "version": 2
   },
   "file_extension": ".py",
   "mimetype": "text/x-python",
   "name": "python",
   "nbconvert_exporter": "python",
   "pygments_lexer": "ipython2",
   "version": "2.7.12"
  },
  "widgets": {
   "state": {
    "09868c83a18b4d719667807fe8816d75": {
     "views": [
      {
       "cell_index": 8
      }
     ]
    },
    "0ce3d14283694dc696ab815186f92ff0": {
     "views": [
      {
       "cell_index": 8
      }
     ]
    },
    "142210db885a41ef8c4cfb9c23493733": {
     "views": [
      {
       "cell_index": 8
      }
     ]
    },
    "1c39b3c6b0a548fc968317ee9f43e16e": {
     "views": [
      {
       "cell_index": 8
      }
     ]
    },
    "31909a9ad7a648c18c0f2ce46c773391": {
     "views": [
      {
       "cell_index": 8
      }
     ]
    },
    "32cda384c3484d40865cc121f84a5a7d": {
     "views": [
      {
       "cell_index": 8
      }
     ]
    },
    "5857fdfde37d4b9ba52ca0457d95234c": {
     "views": [
      {
       "cell_index": 8
      }
     ]
    },
    "60c66edd93c04b04b4c7fd1eef863ad4": {
     "views": [
      {
       "cell_index": 8
      }
     ]
    },
    "63ea6810f94348e388c0f5045cde3cca": {
     "views": [
      {
       "cell_index": 8
      }
     ]
    },
    "6730d347bfa24e409a7e0754c7382628": {
     "views": [
      {
       "cell_index": 8
      }
     ]
    },
    "68feaab9bac546649ec74b5bd4737e74": {
     "views": [
      {
       "cell_index": 8
      }
     ]
    },
    "698ca05ce0664f93b123c92a65c76a9c": {
     "views": [
      {
       "cell_index": 8
      }
     ]
    },
    "74d1a634bf6240318db167a9e36ec522": {
     "views": [
      {
       "cell_index": 8
      }
     ]
    },
    "b23d7a488e204be2b1c8b8deecce25ba": {
     "views": [
      {
       "cell_index": 8
      }
     ]
    },
    "cc3d2963c7f745a2ae2d255f6c2d153e": {
     "views": [
      {
       "cell_index": 8
      }
     ]
    },
    "e2e9d82b5c364323b73051bf84ad41db": {
     "views": [
      {
       "cell_index": 8
      }
     ]
    },
    "e88cdf847bd54f7e854d1a1741a2cba4": {
     "views": [
      {
       "cell_index": 8
      }
     ]
    },
    "f5d2e6d6635d478c98b3676f3248fbb3": {
     "views": [
      {
       "cell_index": 8
      }
     ]
    },
    "f82e097995c54e22b17e1c1f66a00853": {
     "views": [
      {
       "cell_index": 8
      }
     ]
    },
    "f9ddcef62d6948fa8d56fc6bf1fa05a3": {
     "views": [
      {
       "cell_index": 8
      }
     ]
    }
   },
   "version": "1.2.0"
  }
 },
 "nbformat": 4,
 "nbformat_minor": 1
}
